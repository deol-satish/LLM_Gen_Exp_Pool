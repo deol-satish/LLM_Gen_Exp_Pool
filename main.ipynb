{
 "cells": [
  {
   "cell_type": "code",
   "execution_count": 1,
   "metadata": {},
   "outputs": [
    {
     "name": "stdout",
     "output_type": "stream",
     "text": [
      "Training experience pool saved at: exp_pool_l4s_train.pkl\n",
      "len(actions) 2490\n",
      "Old Shape: (543423, 17)\n",
      "New Shape: (271712, 17)\n",
      "Evaluation experience pool saved at: exp_pool_l4s_eval.pkl\n",
      "len(actions) 271712\n"
     ]
    }
   ],
   "source": [
    "# main.py\n",
    "from utils.data_preprocessing import pre_process_extract, trim_df\n",
    "from utils.eval_exp_gen import gen_eval_exp_pool\n",
    "from utils.train_exp_gen import gen_train_exp_pool\n",
    "\n",
    "\n",
    "def main():\n",
    "    # Step 1: Preprocess data\n",
    "    df = pre_process_extract()\n",
    "    \n",
    "    \n",
    "    # Step 2: Trim the DataFrame (if needed)\n",
    "    # df = trim_df(df, 0.2)\n",
    "\n",
    "    # Step 3: Generate training and evaluation experience pools\n",
    "    gen_train_exp_pool(df, train_exp_percent=0.2)\n",
    "    df = trim_df(df, 0.50)\n",
    "    gen_eval_exp_pool(df, eval_exp_percent=1)\n",
    "\n",
    "if __name__ == \"__main__\":\n",
    "    main()\n"
   ]
  },
  {
   "cell_type": "code",
   "execution_count": 2,
   "metadata": {},
   "outputs": [],
   "source": [
    "from utils.data_preprocessing import pre_process_extract, trim_df\n",
    "df = pre_process_extract()\n",
    "    "
   ]
  },
  {
   "cell_type": "code",
   "execution_count": 3,
   "metadata": {},
   "outputs": [
    {
     "data": {
      "text/html": [
       "<div>\n",
       "<style scoped>\n",
       "    .dataframe tbody tr th:only-of-type {\n",
       "        vertical-align: middle;\n",
       "    }\n",
       "\n",
       "    .dataframe tbody tr th {\n",
       "        vertical-align: top;\n",
       "    }\n",
       "\n",
       "    .dataframe thead th {\n",
       "        text-align: right;\n",
       "    }\n",
       "</style>\n",
       "<table border=\"1\" class=\"dataframe\">\n",
       "  <thead>\n",
       "    <tr style=\"text-align: right;\">\n",
       "      <th></th>\n",
       "      <th>queue_type</th>\n",
       "      <th>burst_allowance</th>\n",
       "      <th>drop_probability</th>\n",
       "      <th>current_queue_delay</th>\n",
       "      <th>previous_queue_delay</th>\n",
       "      <th>accumulated_probability</th>\n",
       "      <th>measurement_start_time</th>\n",
       "      <th>average_dequeue_time</th>\n",
       "      <th>dequeue_count</th>\n",
       "      <th>status_flags</th>\n",
       "      <th>total_packets</th>\n",
       "      <th>total_bytes</th>\n",
       "      <th>queue_length</th>\n",
       "      <th>length_in_bytes</th>\n",
       "      <th>total_drops</th>\n",
       "      <th>packet_length</th>\n",
       "      <th>dequeue_action</th>\n",
       "    </tr>\n",
       "  </thead>\n",
       "  <tbody>\n",
       "    <tr>\n",
       "      <th>count</th>\n",
       "      <td>543423.000000</td>\n",
       "      <td>543423.000000</td>\n",
       "      <td>5.434230e+05</td>\n",
       "      <td>543423.000000</td>\n",
       "      <td>543423.000000</td>\n",
       "      <td>5.434230e+05</td>\n",
       "      <td>5.434230e+05</td>\n",
       "      <td>543423.0</td>\n",
       "      <td>543423.0</td>\n",
       "      <td>543423.000000</td>\n",
       "      <td>543423.000000</td>\n",
       "      <td>5.434230e+05</td>\n",
       "      <td>543423.000000</td>\n",
       "      <td>543423.000000</td>\n",
       "      <td>543423.000000</td>\n",
       "      <td>543423.000000</td>\n",
       "      <td>543423.000000</td>\n",
       "    </tr>\n",
       "    <tr>\n",
       "      <th>mean</th>\n",
       "      <td>0.175075</td>\n",
       "      <td>116417.348916</td>\n",
       "      <td>2.848628e+07</td>\n",
       "      <td>87354.362992</td>\n",
       "      <td>73832.189657</td>\n",
       "      <td>9.271892e+08</td>\n",
       "      <td>2.544228e+09</td>\n",
       "      <td>0.0</td>\n",
       "      <td>0.0</td>\n",
       "      <td>2.723674</td>\n",
       "      <td>12361.784107</td>\n",
       "      <td>1.122945e+07</td>\n",
       "      <td>87.493360</td>\n",
       "      <td>82307.072069</td>\n",
       "      <td>23.035722</td>\n",
       "      <td>964.609315</td>\n",
       "      <td>0.008732</td>\n",
       "    </tr>\n",
       "    <tr>\n",
       "      <th>std</th>\n",
       "      <td>0.380032</td>\n",
       "      <td>51741.072077</td>\n",
       "      <td>1.000988e+08</td>\n",
       "      <td>118025.120914</td>\n",
       "      <td>114427.713058</td>\n",
       "      <td>3.622047e+09</td>\n",
       "      <td>5.365564e+08</td>\n",
       "      <td>0.0</td>\n",
       "      <td>0.0</td>\n",
       "      <td>0.867539</td>\n",
       "      <td>11709.327331</td>\n",
       "      <td>1.009956e+07</td>\n",
       "      <td>82.300343</td>\n",
       "      <td>84051.396475</td>\n",
       "      <td>35.598376</td>\n",
       "      <td>697.132815</td>\n",
       "      <td>0.100490</td>\n",
       "    </tr>\n",
       "    <tr>\n",
       "      <th>min</th>\n",
       "      <td>0.000000</td>\n",
       "      <td>0.000000</td>\n",
       "      <td>0.000000e+00</td>\n",
       "      <td>0.000000</td>\n",
       "      <td>0.000000</td>\n",
       "      <td>0.000000e+00</td>\n",
       "      <td>0.000000e+00</td>\n",
       "      <td>0.0</td>\n",
       "      <td>0.0</td>\n",
       "      <td>0.000000</td>\n",
       "      <td>0.000000</td>\n",
       "      <td>0.000000e+00</td>\n",
       "      <td>0.000000</td>\n",
       "      <td>0.000000</td>\n",
       "      <td>0.000000</td>\n",
       "      <td>40.000000</td>\n",
       "      <td>0.000000</td>\n",
       "    </tr>\n",
       "    <tr>\n",
       "      <th>25%</th>\n",
       "      <td>0.000000</td>\n",
       "      <td>90000.000000</td>\n",
       "      <td>0.000000e+00</td>\n",
       "      <td>0.000000</td>\n",
       "      <td>0.000000</td>\n",
       "      <td>0.000000e+00</td>\n",
       "      <td>2.092080e+09</td>\n",
       "      <td>0.0</td>\n",
       "      <td>0.0</td>\n",
       "      <td>3.000000</td>\n",
       "      <td>3214.000000</td>\n",
       "      <td>3.314388e+06</td>\n",
       "      <td>20.000000</td>\n",
       "      <td>16708.000000</td>\n",
       "      <td>0.000000</td>\n",
       "      <td>52.000000</td>\n",
       "      <td>0.000000</td>\n",
       "    </tr>\n",
       "    <tr>\n",
       "      <th>50%</th>\n",
       "      <td>0.000000</td>\n",
       "      <td>150000.000000</td>\n",
       "      <td>0.000000e+00</td>\n",
       "      <td>10000.000000</td>\n",
       "      <td>0.000000</td>\n",
       "      <td>0.000000e+00</td>\n",
       "      <td>2.512970e+09</td>\n",
       "      <td>0.0</td>\n",
       "      <td>0.0</td>\n",
       "      <td>3.000000</td>\n",
       "      <td>8257.000000</td>\n",
       "      <td>8.062604e+06</td>\n",
       "      <td>65.000000</td>\n",
       "      <td>57440.000000</td>\n",
       "      <td>3.000000</td>\n",
       "      <td>1500.000000</td>\n",
       "      <td>0.000000</td>\n",
       "    </tr>\n",
       "    <tr>\n",
       "      <th>75%</th>\n",
       "      <td>0.000000</td>\n",
       "      <td>150000.000000</td>\n",
       "      <td>5.511570e+05</td>\n",
       "      <td>150000.000000</td>\n",
       "      <td>130000.000000</td>\n",
       "      <td>1.545070e+07</td>\n",
       "      <td>3.028160e+09</td>\n",
       "      <td>0.0</td>\n",
       "      <td>0.0</td>\n",
       "      <td>3.000000</td>\n",
       "      <td>18619.000000</td>\n",
       "      <td>1.638693e+07</td>\n",
       "      <td>135.000000</td>\n",
       "      <td>123466.000000</td>\n",
       "      <td>35.000000</td>\n",
       "      <td>1500.000000</td>\n",
       "      <td>0.000000</td>\n",
       "    </tr>\n",
       "    <tr>\n",
       "      <th>max</th>\n",
       "      <td>1.000000</td>\n",
       "      <td>150000.000000</td>\n",
       "      <td>1.161143e+09</td>\n",
       "      <td>910000.000000</td>\n",
       "      <td>870000.000000</td>\n",
       "      <td>9.696829e+10</td>\n",
       "      <td>3.608890e+09</td>\n",
       "      <td>0.0</td>\n",
       "      <td>0.0</td>\n",
       "      <td>3.000000</td>\n",
       "      <td>51131.000000</td>\n",
       "      <td>4.456251e+07</td>\n",
       "      <td>506.000000</td>\n",
       "      <td>626332.000000</td>\n",
       "      <td>170.000000</td>\n",
       "      <td>1500.000000</td>\n",
       "      <td>2.000000</td>\n",
       "    </tr>\n",
       "  </tbody>\n",
       "</table>\n",
       "</div>"
      ],
      "text/plain": [
       "          queue_type  burst_allowance  drop_probability  current_queue_delay  \\\n",
       "count  543423.000000    543423.000000      5.434230e+05        543423.000000   \n",
       "mean        0.175075    116417.348916      2.848628e+07         87354.362992   \n",
       "std         0.380032     51741.072077      1.000988e+08        118025.120914   \n",
       "min         0.000000         0.000000      0.000000e+00             0.000000   \n",
       "25%         0.000000     90000.000000      0.000000e+00             0.000000   \n",
       "50%         0.000000    150000.000000      0.000000e+00         10000.000000   \n",
       "75%         0.000000    150000.000000      5.511570e+05        150000.000000   \n",
       "max         1.000000    150000.000000      1.161143e+09        910000.000000   \n",
       "\n",
       "       previous_queue_delay  accumulated_probability  measurement_start_time  \\\n",
       "count         543423.000000             5.434230e+05            5.434230e+05   \n",
       "mean           73832.189657             9.271892e+08            2.544228e+09   \n",
       "std           114427.713058             3.622047e+09            5.365564e+08   \n",
       "min                0.000000             0.000000e+00            0.000000e+00   \n",
       "25%                0.000000             0.000000e+00            2.092080e+09   \n",
       "50%                0.000000             0.000000e+00            2.512970e+09   \n",
       "75%           130000.000000             1.545070e+07            3.028160e+09   \n",
       "max           870000.000000             9.696829e+10            3.608890e+09   \n",
       "\n",
       "       average_dequeue_time  dequeue_count   status_flags  total_packets  \\\n",
       "count              543423.0       543423.0  543423.000000  543423.000000   \n",
       "mean                    0.0            0.0       2.723674   12361.784107   \n",
       "std                     0.0            0.0       0.867539   11709.327331   \n",
       "min                     0.0            0.0       0.000000       0.000000   \n",
       "25%                     0.0            0.0       3.000000    3214.000000   \n",
       "50%                     0.0            0.0       3.000000    8257.000000   \n",
       "75%                     0.0            0.0       3.000000   18619.000000   \n",
       "max                     0.0            0.0       3.000000   51131.000000   \n",
       "\n",
       "        total_bytes   queue_length  length_in_bytes    total_drops  \\\n",
       "count  5.434230e+05  543423.000000    543423.000000  543423.000000   \n",
       "mean   1.122945e+07      87.493360     82307.072069      23.035722   \n",
       "std    1.009956e+07      82.300343     84051.396475      35.598376   \n",
       "min    0.000000e+00       0.000000         0.000000       0.000000   \n",
       "25%    3.314388e+06      20.000000     16708.000000       0.000000   \n",
       "50%    8.062604e+06      65.000000     57440.000000       3.000000   \n",
       "75%    1.638693e+07     135.000000    123466.000000      35.000000   \n",
       "max    4.456251e+07     506.000000    626332.000000     170.000000   \n",
       "\n",
       "       packet_length  dequeue_action  \n",
       "count  543423.000000   543423.000000  \n",
       "mean      964.609315        0.008732  \n",
       "std       697.132815        0.100490  \n",
       "min        40.000000        0.000000  \n",
       "25%        52.000000        0.000000  \n",
       "50%      1500.000000        0.000000  \n",
       "75%      1500.000000        0.000000  \n",
       "max      1500.000000        2.000000  "
      ]
     },
     "execution_count": 3,
     "metadata": {},
     "output_type": "execute_result"
    }
   ],
   "source": [
    "df.describe()"
   ]
  },
  {
   "cell_type": "code",
   "execution_count": 4,
   "metadata": {},
   "outputs": [],
   "source": [
    "columns_to_use = [\n",
    "    'queue_type', 'burst_allowance', 'drop_probability', 'current_queue_delay',\n",
    "    'accumulated_probability', 'average_dequeue_time', 'length_in_bytes', 'total_drops', 'packet_length'\n",
    "]"
   ]
  },
  {
   "cell_type": "code",
   "execution_count": 5,
   "metadata": {},
   "outputs": [
    {
     "data": {
      "text/plain": [
       "queue_type\n",
       "0    448283\n",
       "1     95140\n",
       "Name: count, dtype: int64"
      ]
     },
     "execution_count": 5,
     "metadata": {},
     "output_type": "execute_result"
    }
   ],
   "source": [
    "df[columns_to_use[0]].value_counts()"
   ]
  },
  {
   "cell_type": "code",
   "execution_count": 6,
   "metadata": {},
   "outputs": [
    {
     "data": {
      "text/plain": [
       "burst_allowance\n",
       "150000    315478\n",
       "0          57328\n",
       "135000     39055\n",
       "120000     30307\n",
       "105000     22680\n",
       "90000      18301\n",
       "75000      15804\n",
       "60000      14141\n",
       "45000      11673\n",
       "30000      11035\n",
       "15000       7621\n",
       "Name: count, dtype: int64"
      ]
     },
     "execution_count": 6,
     "metadata": {},
     "output_type": "execute_result"
    }
   ],
   "source": [
    "df[columns_to_use[1]].value_counts()"
   ]
  },
  {
   "cell_type": "code",
   "execution_count": 7,
   "metadata": {},
   "outputs": [
    {
     "data": {
      "text/plain": [
       "drop_probability\n",
       "0            336799\n",
       "12451          4420\n",
       "9830           2589\n",
       "41287          2275\n",
       "55705          2152\n",
       "              ...  \n",
       "90923989          1\n",
       "29788075          1\n",
       "12608468          1\n",
       "108516471         1\n",
       "15745018          1\n",
       "Name: count, Length: 4306, dtype: int64"
      ]
     },
     "execution_count": 7,
     "metadata": {},
     "output_type": "execute_result"
    }
   ],
   "source": [
    "df[columns_to_use[2]].value_counts()"
   ]
  },
  {
   "cell_type": "code",
   "execution_count": 8,
   "metadata": {},
   "outputs": [
    {
     "data": {
      "text/plain": [
       "current_queue_delay\n",
       "0         266975\n",
       "10000      18401\n",
       "140000     13522\n",
       "120000     13400\n",
       "130000     11269\n",
       "           ...  \n",
       "700000         3\n",
       "910000         2\n",
       "870000         2\n",
       "730000         2\n",
       "640000         2\n",
       "Name: count, Length: 75, dtype: int64"
      ]
     },
     "execution_count": 8,
     "metadata": {},
     "output_type": "execute_result"
    }
   ],
   "source": [
    "df[columns_to_use[3]].value_counts()"
   ]
  },
  {
   "cell_type": "code",
   "execution_count": 9,
   "metadata": {},
   "outputs": [
    {
     "data": {
      "text/plain": [
       "accumulated_probability\n",
       "0              339113\n",
       "12451             209\n",
       "24902             190\n",
       "37353             179\n",
       "49804             169\n",
       "                ...  \n",
       "5100095874          1\n",
       "5039072029          1\n",
       "4978048184          1\n",
       "4917024339          1\n",
       "12593765249         1\n",
       "Name: count, Length: 154474, dtype: int64"
      ]
     },
     "execution_count": 9,
     "metadata": {},
     "output_type": "execute_result"
    }
   ],
   "source": [
    "df[columns_to_use[4]].value_counts()"
   ]
  },
  {
   "cell_type": "code",
   "execution_count": 10,
   "metadata": {},
   "outputs": [
    {
     "data": {
      "text/plain": [
       "average_dequeue_time\n",
       "0    543423\n",
       "Name: count, dtype: int64"
      ]
     },
     "execution_count": 10,
     "metadata": {},
     "output_type": "execute_result"
    }
   ],
   "source": [
    "df[columns_to_use[5]].value_counts()"
   ]
  },
  {
   "cell_type": "code",
   "execution_count": 11,
   "metadata": {},
   "outputs": [
    {
     "data": {
      "text/plain": [
       "length_in_bytes\n",
       "0         52491\n",
       "1500       3601\n",
       "3000       3353\n",
       "4500       3263\n",
       "6000       3135\n",
       "          ...  \n",
       "409320        1\n",
       "258776        1\n",
       "260276        1\n",
       "261776        1\n",
       "2701          1\n",
       "Name: count, Length: 80657, dtype: int64"
      ]
     },
     "execution_count": 11,
     "metadata": {},
     "output_type": "execute_result"
    }
   ],
   "source": [
    "df[columns_to_use[6]].value_counts()"
   ]
  },
  {
   "cell_type": "code",
   "execution_count": 12,
   "metadata": {},
   "outputs": [
    {
     "data": {
      "text/plain": [
       "total_drops\n",
       "0      226868\n",
       "1       24740\n",
       "6       15532\n",
       "3       14686\n",
       "37      13812\n",
       "        ...  \n",
       "144         3\n",
       "164         3\n",
       "147         3\n",
       "156         3\n",
       "158         3\n",
       "Name: count, Length: 171, dtype: int64"
      ]
     },
     "execution_count": 12,
     "metadata": {},
     "output_type": "execute_result"
    }
   ],
   "source": [
    "df[columns_to_use[7]].value_counts()"
   ]
  },
  {
   "cell_type": "code",
   "execution_count": 13,
   "metadata": {},
   "outputs": [
    {
     "data": {
      "text/plain": [
       "packet_length\n",
       "1500    341615\n",
       "52      151489\n",
       "80       21408\n",
       "64       13782\n",
       "72        7281\n",
       "         ...  \n",
       "872          2\n",
       "1348         2\n",
       "144          1\n",
       "180          1\n",
       "184          1\n",
       "Name: count, Length: 119, dtype: int64"
      ]
     },
     "execution_count": 13,
     "metadata": {},
     "output_type": "execute_result"
    }
   ],
   "source": [
    "df[columns_to_use[8]].value_counts()"
   ]
  }
 ],
 "metadata": {
  "kernelspec": {
   "display_name": "base",
   "language": "python",
   "name": "python3"
  },
  "language_info": {
   "codemirror_mode": {
    "name": "ipython",
    "version": 3
   },
   "file_extension": ".py",
   "mimetype": "text/x-python",
   "name": "python",
   "nbconvert_exporter": "python",
   "pygments_lexer": "ipython3",
   "version": "3.12.7"
  }
 },
 "nbformat": 4,
 "nbformat_minor": 2
}
