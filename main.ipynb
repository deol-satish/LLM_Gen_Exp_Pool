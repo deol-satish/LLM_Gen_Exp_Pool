{
 "cells": [
  {
   "cell_type": "code",
   "execution_count": 1,
   "metadata": {},
   "outputs": [
    {
     "name": "stdout",
     "output_type": "stream",
     "text": [
      "Training experience pool saved at: exp_pool_l4s_train.pkl\n",
      "len(actions) 2490\n",
      "Evaluation experience pool saved at: exp_pool_l4s_eval.pkl\n",
      "len(actions) 10870\n"
     ]
    }
   ],
   "source": [
    "# main.py\n",
    "from utils.data_preprocessing import pre_process_extract, trim_df\n",
    "from utils.eval_exp_gen import gen_eval_exp_pool\n",
    "from utils.train_exp_gen import gen_train_exp_pool\n",
    "\n",
    "\n",
    "def main():\n",
    "    # Step 1: Preprocess data\n",
    "    df = pre_process_extract()\n",
    "    \n",
    "    # Step 2: Trim the DataFrame (if needed)\n",
    "    # df = trim_df(df, 0.2)\n",
    "\n",
    "    # Step 3: Generate training and evaluation experience pools\n",
    "    gen_train_exp_pool(df, train_exp_percent=0.2)\n",
    "    gen_eval_exp_pool(df, eval_exp_percent=0.02)\n",
    "\n",
    "if __name__ == \"__main__\":\n",
    "    main()\n"
   ]
  },
  {
   "cell_type": "code",
   "execution_count": 2,
   "metadata": {},
   "outputs": [],
   "source": [
    "import pickle"
   ]
  },
  {
   "cell_type": "code",
   "execution_count": 3,
   "metadata": {},
   "outputs": [
    {
     "name": "stdout",
     "output_type": "stream",
     "text": [
      "Loaded pool size: 10870\n",
      "First action: 0\n"
     ]
    }
   ],
   "source": [
    "with open('exp_pool_l4s_eval.pkl', 'rb') as f:\n",
    "    loaded_exp_pool = pickle.load(f)\n",
    "\n",
    "print(f\"Loaded pool size: {len(loaded_exp_pool)}\")\n",
    "print(f\"First action: {loaded_exp_pool.actions[0]}\")\n"
   ]
  }
 ],
 "metadata": {
  "kernelspec": {
   "display_name": "vizenv",
   "language": "python",
   "name": "python3"
  },
  "language_info": {
   "codemirror_mode": {
    "name": "ipython",
    "version": 3
   },
   "file_extension": ".py",
   "mimetype": "text/x-python",
   "name": "python",
   "nbconvert_exporter": "python",
   "pygments_lexer": "ipython3",
   "version": "3.12.7"
  }
 },
 "nbformat": 4,
 "nbformat_minor": 2
}
